{
 "cells": [
  {
   "cell_type": "markdown",
   "metadata": {},
   "source": [
    "<h1> <center>Automated Bayesian Evidential Learning for Geological UQ </center> </h1> \n",
    "<p>***Author***:  David Zhen Yin   \n",
    "<p>***Contact***: [yinzhen@stanford.edu](mailto:yinzhen@stanford.edu) \n",
    "<p>***Date***:    Apr 20, 2019\n",
    "<p>This is the Automated BEL Python package. The code is demontrated by the example of UQ for reservoir thickness model and storage volume prediction.\n",
    "<img src = \"source_code/img/bel_workflow.jpg\" title=\"Bayesian Evidential Learning workflow\" style=\"width: 500px;\"/>\n",
    "<center>Figure. The concept of Bayesian Evidential Learning </center>  "
   ]
  },
  {
   "cell_type": "markdown",
   "metadata": {},
   "source": [
    "<p> The structure of the Auto-BEL is shown in the figure below\n",
    "<p><img src = \"source_code/img/dataset_struture.jpg\" title=\"Bayesian Evidential Learning workflow\" style=\"width: 450px;\"/>\n",
    "<center>Figure. Structure of Auto-BEL </center>  \n",
    "    "
   ]
  },
  {
   "cell_type": "markdown",
   "metadata": {},
   "source": [
    "# Environment settings"
   ]
  },
  {
   "cell_type": "markdown",
   "metadata": {},
   "source": [
    "##### Prerequisites\n",
    "To enable the Auto-BEL, the users need to have the following Python modules installed (most of them should be installed already when installing Python using Anaconda) :\n",
    "* numpy\n",
    "* matplotlib\n",
    "* scipy\n",
    "* skfmm\n",
    "* sys\n",
    "* sklearn\n",
    "* os\n",
    "* gc\n",
    "* seaborn\n",
    "* pandas\n",
    "* rpy2\n",
    "* R \n",
    "* tqdm\n",
    "* datetime\n",
    "* random\n",
    "* tzlocal"
   ]
  },
  {
   "cell_type": "markdown",
   "metadata": {},
   "source": [
    "##### Initial Setting"
   ]
  },
  {
   "cell_type": "code",
   "execution_count": null,
   "metadata": {},
   "outputs": [],
   "source": [
    "import sys\n",
    "import numpy as np\n",
    "%matplotlib inline\n",
    "%config InlineBackend.figure_format = 'retina'\n",
    "sys.path.insert(0, 'source_code/')"
   ]
  },
  {
   "cell_type": "markdown",
   "metadata": {},
   "source": [
    "##### Auto_BEL"
   ]
  },
  {
   "cell_type": "code",
   "execution_count": null,
   "metadata": {},
   "outputs": [],
   "source": [
    "from Auto_BEL import Auto_BEL\n",
    "from QC_results import QC_results"
   ]
  },
  {
   "cell_type": "markdown",
   "metadata": {},
   "source": [
    "##### QC the BEL Results"
   ]
  },
  {
   "cell_type": "markdown",
   "metadata": {},
   "source": [
    "# Define parameters for BEL"
   ]
  },
  {
   "cell_type": "code",
   "execution_count": null,
   "metadata": {},
   "outputs": [],
   "source": [
    "model_name ='thc_coef'\n",
    "pri_m_samples_dir = 'input/prior_model/samples_exports/'\n",
    "mgl = 'input/prior_model/samples_exports/m_gl/mgl.txt'\n",
    "samples_size = 250\n",
    "x_dim, y_dim, z_dim = 200, 100, 75\n",
    "dobs_file = 'input/d_obs/WELL_all_obs'"
   ]
  },
  {
   "cell_type": "markdown",
   "metadata": {},
   "source": [
    "# Run Auto-BEL"
   ]
  },
  {
   "cell_type": "markdown",
   "metadata": {},
   "source": [
    "Simply run the following command"
   ]
  },
  {
   "cell_type": "code",
   "execution_count": null,
   "metadata": {
    "scrolled": false
   },
   "outputs": [],
   "source": [
    "Auto_BEL(pri_m_samples_dir, model_name, mgl, samples_size, x_dim, y_dim, z_dim, dobs_file)"
   ]
  },
  {
   "cell_type": "markdown",
   "metadata": {},
   "source": [
    "# QC Posterior Results"
   ]
  },
  {
   "cell_type": "code",
   "execution_count": null,
   "metadata": {},
   "outputs": [],
   "source": [
    "QC_results(dobs_file, 'output/model/pos_m_samples.npy', 'output/model/pri_m_samples.npy', \\\n",
    "          x_dim, y_dim, 1, 'output/prediction/GIIP_pri.npy', pri_m_samples_dir)"
   ]
  }
 ],
 "metadata": {
  "kernelspec": {
   "display_name": "Python 3",
   "language": "python",
   "name": "python3"
  },
  "language_info": {
   "codemirror_mode": {
    "name": "ipython",
    "version": 3
   },
   "file_extension": ".py",
   "mimetype": "text/x-python",
   "name": "python",
   "nbconvert_exporter": "python",
   "pygments_lexer": "ipython3",
   "version": "3.6.4"
  },
  "toc": {
   "base_numbering": 1,
   "nav_menu": {
    "height": "201px",
    "width": "254px"
   },
   "number_sections": true,
   "sideBar": true,
   "skip_h1_title": false,
   "title_cell": "Table of Contents",
   "title_sidebar": "Contents",
   "toc_cell": false,
   "toc_position": {
    "height": "533px",
    "left": "25px",
    "top": "111px",
    "width": "290px"
   },
   "toc_section_display": true,
   "toc_window_display": true
  }
 },
 "nbformat": 4,
 "nbformat_minor": 2
}
